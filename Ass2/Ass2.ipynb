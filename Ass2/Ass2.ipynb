{
 "cells": [
  {
   "cell_type": "markdown",
   "metadata": {},
   "source": [
    "# CS-484: Intro to ML - Assignment 2\n"
   ]
  },
  {
   "cell_type": "markdown",
   "metadata": {},
   "source": [
    "### Author: Jorge Gonzalez Lopez\n",
    "### CWID: A20474413\n",
    "### Semester: Spring 2021"
   ]
  },
  {
   "cell_type": "code",
   "execution_count": 1,
   "metadata": {},
   "outputs": [],
   "source": [
    "# IMPORT LIBRARIES"
   ]
  },
  {
   "cell_type": "code",
   "execution_count": 1,
   "metadata": {},
   "outputs": [],
   "source": [
    "import numpy as np\n",
    "import pandas as pd\n",
    "import math\n",
    "import matplotlib.pyplot as plt\n",
    "import scipy.linalg as sl\n",
    "import sklearn.cluster as cluster\n",
    "import sklearn.metrics as metrics\n",
    "\n",
    "from mlxtend.frequent_patterns import apriori\n",
    "from mlxtend.frequent_patterns import association_rules\n",
    "from mlxtend.preprocessing import TransactionEncoder"
   ]
  },
  {
   "cell_type": "markdown",
   "metadata": {},
   "source": [
    "## Question 4"
   ]
  },
  {
   "cell_type": "code",
   "execution_count": 118,
   "metadata": {},
   "outputs": [],
   "source": [
    "Cluster0 = [-2,-1,1,2,3]\n",
    "Cluster1 = [4,5,7,8]\n",
    "data = Cluster0 + Cluster1\n",
    "data = np.vstack(data)\n"
   ]
  },
  {
   "cell_type": "code",
   "execution_count": 119,
   "metadata": {},
   "outputs": [
    {
     "name": "stdout",
     "output_type": "stream",
     "text": [
      "The Silhouette width of the observation 2 in Cluster 0 is: 0.6428571428571429\n"
     ]
    }
   ],
   "source": [
    "a_ij = 0\n",
    "d_ij = 0\n",
    "\n",
    "for i in Cluster0:\n",
    "        if i != -1:\n",
    "            a_ij += (np.linalg.norm(-1 - i) / (len(Cluster0)-1))\n",
    "            \n",
    "for i in Cluster1:\n",
    "     d_ij += (np.linalg.norm(-1 - i) / (len(Cluster1)))\n",
    "    \n",
    "#Only two clusters\n",
    "b_ij = d_ij\n",
    "\n",
    "             \n",
    "s_ij = (b_ij - a_ij) / np.maximum(a_ij, b_ij)\n",
    "\n",
    "print('The Silhouette width of the observation 2 in Cluster 0 is: ' + str(s_ij))"
   ]
  },
  {
   "cell_type": "code",
   "execution_count": 120,
   "metadata": {},
   "outputs": [],
   "source": [
    "cen_0 = np.mean(Cluster0)\n",
    "cen_1 = np.mean(Cluster1)"
   ]
  },
  {
   "cell_type": "code",
   "execution_count": 121,
   "metadata": {},
   "outputs": [
    {
     "name": "stdout",
     "output_type": "stream",
     "text": [
      "The Davies-Bouldin value of cluster 0 is : 0.5889 and of cluster 1 is: 0.5889\n"
     ]
    }
   ],
   "source": [
    "S_0 = 0\n",
    "S_1 = 0\n",
    "\n",
    "for i in Cluster0:\n",
    "     S_0 += (np.linalg.norm(cen_0 - i) / (len(Cluster0)))\n",
    "            \n",
    "for i in Cluster1:\n",
    "     S_1 += (np.linalg.norm(cen_1 - i) / (len(Cluster1)))\n",
    "\n",
    "M_kl = np.linalg.norm(cen_0 - cen_1) \n",
    "R_kl = (S_0 + S_1)/(M_kl)\n",
    "\n",
    "R_0 = np.max(R_kl)\n",
    "R_1 = np.max(R_kl)\n",
    "\n",
    "print('The Davies-Bouldin value of cluster 0 is : '+ str(np.round(R_0, decimals=4))+ ' and of cluster 1 is: '+ str(np.round(R_1, decimals=4)))"
   ]
  },
  {
   "cell_type": "code",
   "execution_count": 122,
   "metadata": {},
   "outputs": [
    {
     "name": "stdout",
     "output_type": "stream",
     "text": [
      "The Davies-Bouldin Index is: 0.5889\n"
     ]
    }
   ],
   "source": [
    "DB = (R_0 + R_1) / 2\n",
    "\n",
    "print('The Davies-Bouldin Index is: '+ str(np.round(DB, decimals=4)))"
   ]
  },
  {
   "cell_type": "markdown",
   "metadata": {},
   "source": [
    "## Question 5"
   ]
  },
  {
   "cell_type": "code",
   "execution_count": 193,
   "metadata": {},
   "outputs": [],
   "source": [
    "df = pd.read_csv('Groceries.csv')"
   ]
  },
  {
   "cell_type": "code",
   "execution_count": 194,
   "metadata": {},
   "outputs": [],
   "source": [
    "# Get itemSets of all the customers\n",
    "itemsets = df.groupby(['Customer'])['Item'].apply(list).values.tolist()"
   ]
  },
  {
   "cell_type": "code",
   "execution_count": 195,
   "metadata": {},
   "outputs": [],
   "source": [
    "# Convert the Item List format to the Item Indicator format\n",
    "te = TransactionEncoder()\n",
    "te_ary = te.fit(itemsets).transform(itemsets)\n",
    "item_ind = pd.DataFrame(te_ary, columns=te.columns_)\n",
    "\n",
    "support = 75 / len(itemsets)\n",
    "# Find the frequent itemsets\n",
    "frequent = apriori(item_ind, min_support = support, use_colnames = True)"
   ]
  },
  {
   "cell_type": "code",
   "execution_count": 196,
   "metadata": {},
   "outputs": [
    {
     "name": "stdout",
     "output_type": "stream",
     "text": [
      "There are 524 itemsets in total.\n"
     ]
    }
   ],
   "source": [
    "print('There are ' + str(len(frequent)) + ' itemsets in total.')"
   ]
  },
  {
   "cell_type": "code",
   "execution_count": 197,
   "metadata": {},
   "outputs": [
    {
     "name": "stdout",
     "output_type": "stream",
     "text": [
      "The larget k value among the itemsets is: 4\n"
     ]
    }
   ],
   "source": [
    "largest_k = frequent['itemsets'].values[-1]\n",
    "\n",
    "print('The larget k value among the itemsets is: ' + str(len(largest_k)))"
   ]
  },
  {
   "cell_type": "code",
   "execution_count": 218,
   "metadata": {
    "scrolled": false
   },
   "outputs": [
    {
     "name": "stdout",
     "output_type": "stream",
     "text": [
      "There are 1228 association rules.\n"
     ]
    }
   ],
   "source": [
    "# Association rules with a Coincidence metric greater or equal to 1%\n",
    "coinc = 0.01\n",
    "a_r = association_rules(frequent, metric = \"confidence\", min_threshold = coinc)\n",
    "\n",
    "print('There are ' + str(len(a_r)) + ' association rules.')"
   ]
  },
  {
   "cell_type": "code",
   "execution_count": 199,
   "metadata": {},
   "outputs": [
    {
     "data": {
      "image/png": "[encoded data removed]",
      "text/plain": [
       "<Figure size 720x504 with 2 Axes>"
      ]
     },
     "metadata": {
      "needs_background": "light"
     },
     "output_type": "display_data"
    }
   ],
   "source": [
    "plt.figure(figsize=(10,7))\n",
    "plt.colorbar(plt.scatter(a_r['confidence'], a_r['support'], a_r['lift'], a_r['lift'], linewidths=2), label= 'Lift')\n",
    "plt.xlabel(\"Confidence\")\n",
    "plt.ylabel(\"Support\")\n",
    "plt.grid()\n",
    "plt.show()"
   ]
  },
  {
   "cell_type": "code",
   "execution_count": 224,
   "metadata": {},
   "outputs": [
    {
     "name": "stdout",
     "output_type": "stream",
     "text": [
      "                                      antecedents   consequents   support  \\\n",
      "727                     (root vegetables, butter)  (whole milk)  0.008236   \n",
      "734                              (yogurt, butter)  (whole milk)  0.009354   \n",
      "1200  (root vegetables, yogurt, other vegetables)  (whole milk)  0.007829   \n",
      "1214   (yogurt, other vegetables, tropical fruit)  (whole milk)  0.007626   \n",
      "\n",
      "      confidence      lift  \n",
      "727     0.637795  2.496107  \n",
      "734     0.638889  2.500387  \n",
      "1200    0.606299  2.372842  \n",
      "1214    0.619835  2.425816  \n"
     ]
    }
   ],
   "source": [
    "# Confidence >= 60 %\n",
    "a_r2 = a_r[a_r['confidence'] >= 0.6]\n",
    "print(a_r2[['antecedents', 'consequents','support', 'confidence', 'lift']])"
   ]
  },
  {
   "cell_type": "markdown",
   "metadata": {},
   "source": [
    "## Question 6"
   ]
  },
  {
   "cell_type": "code",
   "execution_count": 12,
   "metadata": {},
   "outputs": [],
   "source": [
    "df = pd.read_csv('cars.csv')"
   ]
  },
  {
   "cell_type": "code",
   "execution_count": 13,
   "metadata": {},
   "outputs": [],
   "source": [
    "input_var = ['Weight', 'Wheelbase', 'Length']\n",
    "# Distance Manhattan\n",
    "k_min = 2\n",
    "k_max = 10\n",
    "random_state = 60616"
   ]
  },
  {
   "cell_type": "code",
   "execution_count": 14,
   "metadata": {},
   "outputs": [],
   "source": [
    "df_nn = df[input_var]"
   ]
  },
  {
   "cell_type": "code",
   "execution_count": 15,
   "metadata": {},
   "outputs": [],
   "source": [
    "df[input_var] = 10*(df[input_var]-np.min(df[input_var]))/(np.max(df[input_var]) - np.min(df[input_var]))"
   ]
  },
  {
   "cell_type": "code",
   "execution_count": null,
   "metadata": {},
   "outputs": [],
   "source": [
    "Elbow = []\n",
    "Sil = []\n",
    "Cal = []\n",
    "Dav = []\n",
    "wcss = []\n",
    "\n",
    "for i in range(k_min, k_max+1):\n",
    "    km = cluster.KMeans(n_clusters = i, random_state= random_state).fit(df[input_var])\n",
    "    \n",
    "    Sil.append(metrics.silhouette_score(df[input_var], km.labels_))\n",
    "    Cal.append(metrics.calinski_harabasz_score(df[input_var], km.labels_))\n",
    "    Dav.append(metrics.davies_bouldin_score(df[input_var], km.labels_))\n",
    "        \n",
    "    WCSS = np.zeros(i)\n",
    "    nC = np.zeros(i)\n",
    "\n",
    "    for j in range(df[input_var].shape[0]):\n",
    "        k = km.labels_[j]\n",
    "        nC[k] += 1\n",
    "        diff = df[input_var].values[j] - km.cluster_centers_[k]\n",
    "        WCSS[k] += diff.dot(diff)\n",
    "\n",
    "    elb = 0\n",
    "    TotalWCSS = 0\n",
    "    for k in range(i):\n",
    "        elb += WCSS[k] / nC[k]\n",
    "        TotalWCSS += WCSS[k]\n",
    "    \n",
    "    Elbow.append(elb)\n",
    "    wcss.append(TotalWCSS)\n",
    "    "
   ]
  },
  {
   "cell_type": "code",
   "execution_count": null,
   "metadata": {},
   "outputs": [],
   "source": [
    "print(\"K\\t WCSS\\t      Elbow Value \\t    Silhouette values \\t Calinski-Harabasz Scores\\t Davies-Bouldin Index\")\n",
    "for c in range(k_min, k_max+1):\n",
    "   print('{:.0f} \\t {:.4f} \\t {:.4f}  \\t {:.4f}            \\t {:.4f}                  \\t {:.4f}'\n",
    "         .format(c, wcss[c-2], Elbow[c-2], Sil[c-2], Cal[c-2], Dav[c-2]))\n"
   ]
  },
  {
   "cell_type": "code",
   "execution_count": null,
   "metadata": {},
   "outputs": [],
   "source": [
    "plt.plot(np.arange(2,11), wcss, linewidth = 2, marker = 'o')\n",
    "plt.grid(True)\n",
    "plt.xlabel(\"Number of Clusters\")\n",
    "plt.ylabel(\"WCSS Value\")\n",
    "plt.xticks(np.arange(1, 10+1, step = 1))\n",
    "plt.show()\n",
    "\n",
    "plt.plot(np.arange(2,11), Elbow, linewidth = 2, marker = 'o')\n",
    "plt.grid(True)\n",
    "plt.xlabel(\"Number of Clusters\")\n",
    "plt.ylabel(\"Elbow Value\")\n",
    "plt.xticks(np.arange(1, 10+1, step = 1))\n",
    "plt.show()\n",
    "\n",
    "plt.plot(np.arange(2,11), Sil, linewidth = 2, marker = 'o')\n",
    "plt.grid(True)\n",
    "plt.xlabel(\"Number of Clusters\")\n",
    "plt.ylabel(\"Silhouette Value\")\n",
    "plt.xticks(np.arange(1, 10+1, step = 1))\n",
    "plt.show()   \n",
    "\n",
    "plt.plot(np.arange(2,11), Cal, linewidth = 2, marker = 'o')\n",
    "plt.grid(True)\n",
    "plt.xlabel(\"Number of Clusters\")\n",
    "plt.ylabel(\"Calinski-Harabasz Score\")\n",
    "plt.xticks(np.arange(1, 10+1, step = 1))\n",
    "plt.show()\n",
    "\n",
    "plt.plot(np.arange(2,11), Dav, linewidth = 2, marker = 'o')\n",
    "plt.grid(True)\n",
    "plt.xlabel(\"Number of Clusters\")\n",
    "plt.ylabel(\"Davies-Bouldin Index\")\n",
    "plt.xticks(np.arange(1, 10+1, step = 1))\n",
    "plt.show()   "
   ]
  },
  {
   "cell_type": "code",
   "execution_count": null,
   "metadata": {},
   "outputs": [],
   "source": [
    "print('The suggested number of clusters is: ' + str(3))"
   ]
  },
  {
   "cell_type": "code",
   "execution_count": 210,
   "metadata": {},
   "outputs": [
    {
     "name": "stdout",
     "output_type": "stream",
     "text": [
      "Cluster Centroid 0: [3635.36206897  108.89655172  188.81896552]\n",
      "Cluster Centroid 1: [4874.36764706  118.97058824  201.42647059]\n",
      "Cluster Centroid 2: [2785.1796875  101.0625     173.90625  ]\n"
     ]
    }
   ],
   "source": [
    "km = cluster.KMeans(n_clusters = 3, random_state= random_state).fit(df_nn)\n",
    "\n",
    "print(\"Cluster Centroid 0:\", km.cluster_centers_[0])\n",
    "print(\"Cluster Centroid 1:\", km.cluster_centers_[1])\n",
    "print(\"Cluster Centroid 2:\", km.cluster_centers_[2])\n"
   ]
  },
  {
   "cell_type": "code",
   "execution_count": 250,
   "metadata": {},
   "outputs": [],
   "source": []
  },
  {
   "cell_type": "code",
   "execution_count": null,
   "metadata": {},
   "outputs": [],
   "source": []
  }
 ],
 "metadata": {
  "kernelspec": {
   "display_name": "Python 3",
   "language": "python",
   "name": "python3"
  },
  "language_info": {
   "codemirror_mode": {
    "name": "ipython",
    "version": 3
   },
   "file_extension": ".py",
   "mimetype": "text/x-python",
   "name": "python",
   "nbconvert_exporter": "python",
   "pygments_lexer": "ipython3",
   "version": "3.7.4"
  }
 },
 "nbformat": 4,
 "nbformat_minor": 2
}
