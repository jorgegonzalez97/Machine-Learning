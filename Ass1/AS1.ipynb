{
 "cells": [
  {
   "cell_type": "markdown",
   "metadata": {},
   "source": [
    "# CS-484: Intro to ML - Assignment 1"
   ]
  },
  {
   "cell_type": "markdown",
   "metadata": {},
   "source": [
    "### Author: Jorge Gonzalez Lopez\n",
    "### CWID: A20474413\n",
    "### Semester: Spring 2021"
   ]
  },
  {
   "cell_type": "code",
   "execution_count": 1,
   "metadata": {},
   "outputs": [],
   "source": [
    "# IMPORT LIBRARIES"
   ]
  },
  {
   "cell_type": "code",
   "execution_count": 434,
   "metadata": {},
   "outputs": [],
   "source": [
    "import numpy as np\n",
    "import pandas as pd\n",
    "import math\n",
    "import matplotlib.pyplot as plt\n",
    "import scipy.linalg as sl\n",
    "from sklearn.neighbors import KNeighborsClassifier\n"
   ]
  },
  {
   "cell_type": "markdown",
   "metadata": {},
   "source": [
    "## Question 1"
   ]
  },
  {
   "cell_type": "code",
   "execution_count": 435,
   "metadata": {
    "scrolled": true
   },
   "outputs": [
    {
     "name": "stdout",
     "output_type": "stream",
     "text": [
      "   i  group     x\n",
      "0  0      1  29.8\n",
      "1  1      1  33.3\n",
      "2  2      0  30.9\n",
      "3  3      1  32.2\n",
      "4  4      0  31.1\n"
     ]
    }
   ],
   "source": [
    "data = pd.read_csv('NormalSample.csv', delimiter=',')\n",
    "print(data.head())"
   ]
  },
  {
   "cell_type": "code",
   "execution_count": 436,
   "metadata": {},
   "outputs": [
    {
     "name": "stdout",
     "output_type": "stream",
     "text": [
      "a) Use the Pandas describe on the field x in the NormalSample.csv\n",
      "count    1001.000000\n",
      "mean       31.414585\n",
      "std         1.397672\n",
      "min        26.300000\n",
      "25%        30.400000\n",
      "50%        31.500000\n",
      "75%        32.400000\n",
      "max        35.400000\n",
      "Name: x, dtype: float64\n"
     ]
    }
   ],
   "source": [
    "print('a) Use the Pandas describe on the field x in the NormalSample.csv')\n",
    "desc = data['x'].describe()\n",
    "print(desc)"
   ]
  },
  {
   "cell_type": "code",
   "execution_count": 437,
   "metadata": {},
   "outputs": [
    {
     "name": "stdout",
     "output_type": "stream",
     "text": [
      "b) Bin width recommended by the Izenman (1991) method\n",
      "0.4\n"
     ]
    }
   ],
   "source": [
    "print('b) Bin width recommended by the Izenman (1991) method')\n",
    "h_iz = 2 * (desc['75%'] - desc['25%']) * (desc['count']**(-1/3))\n",
    "h_iz = np.round(h_iz,decimals=1)\n",
    "print(h_iz)"
   ]
  },
  {
   "cell_type": "code",
   "execution_count": 438,
   "metadata": {},
   "outputs": [],
   "source": [
    "def calcCD (Y, delta):\n",
    "    maxY = np.max(Y)\n",
    "    minY = np.min(Y)\n",
    "    meanY = np.mean(Y)\n",
    "\n",
    "   # Round the mean to integral multiples of delta\n",
    "    middleY = delta * np.round(meanY / delta)\n",
    "\n",
    "   # Determine the number of bins on both sides of the rounded mean\n",
    "    nBinRight = np.ceil((maxY - middleY) / delta)\n",
    "    nBinLeft = np.ceil((middleY - minY) / delta)\n",
    "    lowY = middleY - nBinLeft * delta\n",
    "\n",
    "   # Assign observations to bins starting from 0\n",
    "    m = nBinLeft + nBinRight\n",
    "    BIN_INDEX = 0;\n",
    "    boundaryY = lowY\n",
    "    for iBin in np.arange(m):\n",
    "        boundaryY = boundaryY + delta\n",
    "        BIN_INDEX = np.where(Y > boundaryY, iBin+1, BIN_INDEX)\n",
    "\n",
    "   # Count the number of observations in each bins\n",
    "    uBin, binFreq = np.unique(BIN_INDEX, return_counts = True)\n",
    "\n",
    "   # Calculate the average frequency\n",
    "    meanBinFreq = np.sum(binFreq) / m\n",
    "    ssDevBinFreq = np.sum((binFreq - meanBinFreq)**2) / m\n",
    "    CDelta = (2.0 * meanBinFreq - ssDevBinFreq) / (delta * delta)\n",
    "    return(m, middleY, lowY, CDelta)\n"
   ]
  },
  {
   "cell_type": "code",
   "execution_count": 439,
   "metadata": {},
   "outputs": [
    {
     "name": "stdout",
     "output_type": "stream",
     "text": [
      "b) Bin width recommended by the Shimazaki and Shinomoto (2007) method:\n",
      "The minimum C is: -9538.29 and the bin width that minimizes C is: 1\n"
     ]
    }
   ],
   "source": [
    "result = pd.DataFrame()\n",
    "D = [0.1, 0.2, 0.5, 1, 2, 5]\n",
    "for d in D:\n",
    "    nBin, middleY, lowY, CDelta = calcCD(data['x'],d)\n",
    "    highY = lowY + nBin * d\n",
    "    result = result.append([[d, CDelta, lowY, middleY, highY, nBin]], ignore_index = True)\n",
    "\n",
    "C_min = np.min(result[1])\n",
    "idx  = np.where(result[1]==C_min)[0][0]    \n",
    "print('b) Bin width recommended by the Shimazaki and Shinomoto (2007) method:')\n",
    "print('The minimum C is: '+ str(np.round(C_min,decimals=2)) + ' and the bin width that minimizes C is: '+ str(D[idx]))\n",
    "\n"
   ]
  },
  {
   "cell_type": "code",
   "execution_count": 378,
   "metadata": {},
   "outputs": [
    {
     "name": "stdout",
     "output_type": "stream",
     "text": [
      "The midpoints are: [26.5 27.5 28.5 29.5 30.5 31.5 32.5 33.5 34.5 35.5]\n"
     ]
    },
    {
     "data": {
      "image/png": "[encoded data removed]",
      "text/plain": [
       "<Figure size 432x288 with 1 Axes>"
      ]
     },
     "metadata": {
      "needs_background": "light"
     },
     "output_type": "display_data"
    }
   ],
   "source": [
    "nBin, middleY, lowY, CDelta = calcCD(data['x'],D[idx])\n",
    "highY = lowY + nBin * D[idx]\n",
    "binMid = lowY + 0.5 * D[idx] + np.arange(nBin) * D[idx]\n",
    "plt.hist(data['x'], bins = binMid, align='mid')\n",
    "plt.title('Delta = ' + str(D[idx]))\n",
    "plt.ylabel('Number of Observations')\n",
    "plt.grid(axis = 'y')\n",
    "\n",
    "print('The midpoints are: ' + str(binMid))\n",
    "plt.show()"
   ]
  },
  {
   "cell_type": "markdown",
   "metadata": {},
   "source": [
    "## Question 2"
   ]
  },
  {
   "cell_type": "code",
   "execution_count": 155,
   "metadata": {},
   "outputs": [
    {
     "data": {
      "text/html": [
       "<div>\n",
       "<style scoped>\n",
       "    .dataframe tbody tr th:only-of-type {\n",
       "        vertical-align: middle;\n",
       "    }\n",
       "\n",
       "    .dataframe tbody tr th {\n",
       "        vertical-align: top;\n",
       "    }\n",
       "\n",
       "    .dataframe thead th {\n",
       "        text-align: right;\n",
       "    }\n",
       "</style>\n",
       "<table border=\"1\" class=\"dataframe\">\n",
       "  <thead>\n",
       "    <tr style=\"text-align: right;\">\n",
       "      <th></th>\n",
       "      <th>i</th>\n",
       "      <th>group</th>\n",
       "      <th>x</th>\n",
       "    </tr>\n",
       "  </thead>\n",
       "  <tbody>\n",
       "    <tr>\n",
       "      <td>0</td>\n",
       "      <td>0</td>\n",
       "      <td>1</td>\n",
       "      <td>29.8</td>\n",
       "    </tr>\n",
       "    <tr>\n",
       "      <td>1</td>\n",
       "      <td>1</td>\n",
       "      <td>1</td>\n",
       "      <td>33.3</td>\n",
       "    </tr>\n",
       "    <tr>\n",
       "      <td>2</td>\n",
       "      <td>2</td>\n",
       "      <td>0</td>\n",
       "      <td>30.9</td>\n",
       "    </tr>\n",
       "    <tr>\n",
       "      <td>3</td>\n",
       "      <td>3</td>\n",
       "      <td>1</td>\n",
       "      <td>32.2</td>\n",
       "    </tr>\n",
       "    <tr>\n",
       "      <td>4</td>\n",
       "      <td>4</td>\n",
       "      <td>0</td>\n",
       "      <td>31.1</td>\n",
       "    </tr>\n",
       "  </tbody>\n",
       "</table>\n",
       "</div>"
      ],
      "text/plain": [
       "   i  group     x\n",
       "0  0      1  29.8\n",
       "1  1      1  33.3\n",
       "2  2      0  30.9\n",
       "3  3      1  32.2\n",
       "4  4      0  31.1"
      ]
     },
     "execution_count": 155,
     "metadata": {},
     "output_type": "execute_result"
    }
   ],
   "source": [
    "print(data.head())"
   ]
  },
  {
   "cell_type": "code",
   "execution_count": 164,
   "metadata": {},
   "outputs": [
    {
     "name": "stdout",
     "output_type": "stream",
     "text": [
      "a) The five-number summary of x for each category of the group is: \n",
      "group = 0 -> Min: 26.3, Q1: 29.4, Q2: 30.0, Q3: 30.6 and max: 32.2\n",
      "group = 1 -> Min: 29.1, Q1: 31.4, Q2: 32.1, Q3: 32.7 and max: 35.4\n",
      "\n",
      "And the values of the 1.5 IQR whiskers are: \n",
      "group = 0 -> lower whisker = 27.6 and the upper whisker: 32.4\n",
      "group = 1 -> lower whisker = 29.45 and the upper whisker: 34.65\n"
     ]
    }
   ],
   "source": [
    "data_g0 = data[data['group'] == 0]['x']\n",
    "data_g1 = data[data['group'] == 1]['x']\n",
    "\n",
    "IQR_g0 = np.percentile(data_g0,75) -  np.percentile(data_g0,25)\n",
    "IQR_g1 = np.percentile(data_g1,75) -  np.percentile(data_g1,25)\n",
    "\n",
    "lower_whisker_g0 =  np.percentile(data_g0,25) - 1.5 * IQR_g0\n",
    "upper_whisker_g0 =  np.percentile(data_g0,75) + 1.5 * IQR_g0\n",
    "\n",
    "lower_whisker_g1 =  np.percentile(data_g1,25) - 1.5 * IQR_g1\n",
    "upper_whisker_g1 =  np.percentile(data_g1,75) + 1.5 * IQR_g1\n",
    "\n",
    "print('a) The five-number summary of x for each category of the group is: ')\n",
    "print('group = 0 -> Min: ' + str(min(data_g0)) + ', Q1: ' + str(np.percentile(data_g0,25)) + ', Q2: ' + str(np.percentile(data_g0,50)) + ', Q3: ' + str(np.percentile(data_g0,75)) + ' and max: ' + str(max(data_g0)))\n",
    "print('group = 1 -> Min: ' + str(min(data_g1)) + ', Q1: ' + str(np.percentile(data_g1,25)) + ', Q2: ' + str(np.percentile(data_g1,50)) + ', Q3: ' + str(np.percentile(data_g1,75)) + ' and max: ' + str(max(data_g1)))\n",
    "\n",
    "print('\\nAnd the values of the 1.5 IQR whiskers are: ')\n",
    "print('group = 0 -> lower whisker = ' + str(np.round(lower_whisker_g0,decimals = 2)) + ' and the upper whisker: ' + str(np.round(upper_whisker_g0, decimals=2)))\n",
    "print('group = 1 -> lower whisker = ' + str(np.round(lower_whisker_g1,decimals = 2)) + ' and the upper whisker: ' + str(np.round(upper_whisker_g1, decimals=2)))\n"
   ]
  },
  {
   "cell_type": "code",
   "execution_count": 170,
   "metadata": {},
   "outputs": [
    {
     "data": {
      "image/png": "[encoded data removed]",
      "text/plain": [
       "<Figure size 720x720 with 1 Axes>"
      ]
     },
     "metadata": {
      "needs_background": "light"
     },
     "output_type": "display_data"
    }
   ],
   "source": [
    "fig, ax = plt.subplots(figsize=(10,10))\n",
    "ax.set_title('Box Plot')\n",
    "ax.boxplot([data['x'], data_g0, data_g1], labels = ['x', 'x (group = 0)', 'x (group = 1)'])\n",
    "ax.grid(linestyle = '--', linewidth = 0.25)\n",
    "plt.show()"
   ]
  },
  {
   "cell_type": "code",
   "execution_count": 179,
   "metadata": {},
   "outputs": [
    {
     "name": "stdout",
     "output_type": "stream",
     "text": [
      "The five-number summary of x: \n",
      "Min: 26.3, Q1: 30.4, Q2: 31.5, Q3: 32.4 and max: 35.4\n",
      "\n",
      "Outliers of x for the entire data:\n",
      "70     27.2\n",
      "295    26.3\n",
      "Name: x, dtype: float64\n",
      "\n",
      "Outliers of x for the group = 0:\n",
      "70     27.2\n",
      "295    26.3\n",
      "Name: x, dtype: float64\n",
      "\n",
      "Outliers of x for the group = 1:\n",
      "30     35.3\n",
      "107    29.3\n",
      "297    35.4\n",
      "812    34.9\n",
      "846    34.7\n",
      "907    34.8\n",
      "938    29.3\n",
      "975    29.1\n",
      "Name: x, dtype: float64\n"
     ]
    }
   ],
   "source": [
    "data_g = data['x']\n",
    "\n",
    "IQR_g = np.percentile(data_g,75) -  np.percentile(data_g,25)\n",
    "\n",
    "lower_whisker_g =  np.percentile(data_g,25) - 1.5 * IQR_g\n",
    "upper_whisker_g =  np.percentile(data_g,75) + 1.5 * IQR_g\n",
    "\n",
    "print('The five-number summary of x: ')\n",
    "print('Min: ' + str(min(data_g)) + ', Q1: ' + str(np.percentile(data_g,25)) + ', Q2: ' + str(np.percentile(data_g,50)) + ', Q3: ' + str(np.percentile(data_g,75)) + ' and max: ' + str(max(data_g)))\n",
    "\n",
    "\n",
    "print('\\nOutliers of x for the entire data:')\n",
    "print(data_g[(data_g < lower_whisker_g) | (data_g > upper_whisker_g)])\n",
    "\n",
    "print('\\nOutliers of x for the group = 0:')\n",
    "print(data_g0[(data_g0 < lower_whisker_g0) | (data_g0 > upper_whisker_g0)])\n",
    "\n",
    "\n",
    "print('\\nOutliers of x for the group = 1:')\n",
    "print(data_g1[(data_g1 < lower_whisker_g1) | (data_g1 > upper_whisker_g1)])\n",
    "\n"
   ]
  },
  {
   "cell_type": "code",
   "execution_count": null,
   "metadata": {},
   "outputs": [],
   "source": []
  },
  {
   "cell_type": "markdown",
   "metadata": {},
   "source": [
    "## Question 3"
   ]
  },
  {
   "cell_type": "code",
   "execution_count": 347,
   "metadata": {},
   "outputs": [
    {
     "data": {
      "text/html": [
       "<div>\n",
       "<style scoped>\n",
       "    .dataframe tbody tr th:only-of-type {\n",
       "        vertical-align: middle;\n",
       "    }\n",
       "\n",
       "    .dataframe tbody tr th {\n",
       "        vertical-align: top;\n",
       "    }\n",
       "\n",
       "    .dataframe thead th {\n",
       "        text-align: right;\n",
       "    }\n",
       "</style>\n",
       "<table border=\"1\" class=\"dataframe\">\n",
       "  <thead>\n",
       "    <tr style=\"text-align: right;\">\n",
       "      <th></th>\n",
       "      <th>CASE_ID</th>\n",
       "      <th>FRAUD</th>\n",
       "      <th>TOTAL_SPEND</th>\n",
       "      <th>DOCTOR_VISITS</th>\n",
       "      <th>NUM_CLAIMS</th>\n",
       "      <th>MEMBER_DURATION</th>\n",
       "      <th>OPTOM_PRESC</th>\n",
       "      <th>NUM_MEMBERS</th>\n",
       "    </tr>\n",
       "  </thead>\n",
       "  <tbody>\n",
       "    <tr>\n",
       "      <td>0</td>\n",
       "      <td>1</td>\n",
       "      <td>1</td>\n",
       "      <td>1100</td>\n",
       "      <td>11</td>\n",
       "      <td>0</td>\n",
       "      <td>94</td>\n",
       "      <td>1</td>\n",
       "      <td>2</td>\n",
       "    </tr>\n",
       "    <tr>\n",
       "      <td>1</td>\n",
       "      <td>2</td>\n",
       "      <td>1</td>\n",
       "      <td>1300</td>\n",
       "      <td>7</td>\n",
       "      <td>2</td>\n",
       "      <td>122</td>\n",
       "      <td>0</td>\n",
       "      <td>1</td>\n",
       "    </tr>\n",
       "    <tr>\n",
       "      <td>2</td>\n",
       "      <td>3</td>\n",
       "      <td>1</td>\n",
       "      <td>1500</td>\n",
       "      <td>4</td>\n",
       "      <td>0</td>\n",
       "      <td>149</td>\n",
       "      <td>1</td>\n",
       "      <td>3</td>\n",
       "    </tr>\n",
       "    <tr>\n",
       "      <td>3</td>\n",
       "      <td>4</td>\n",
       "      <td>1</td>\n",
       "      <td>1500</td>\n",
       "      <td>9</td>\n",
       "      <td>0</td>\n",
       "      <td>180</td>\n",
       "      <td>1</td>\n",
       "      <td>1</td>\n",
       "    </tr>\n",
       "    <tr>\n",
       "      <td>4</td>\n",
       "      <td>5</td>\n",
       "      <td>0</td>\n",
       "      <td>1700</td>\n",
       "      <td>3</td>\n",
       "      <td>0</td>\n",
       "      <td>93</td>\n",
       "      <td>0</td>\n",
       "      <td>1</td>\n",
       "    </tr>\n",
       "  </tbody>\n",
       "</table>\n",
       "</div>"
      ],
      "text/plain": [
       "   CASE_ID  FRAUD  TOTAL_SPEND  DOCTOR_VISITS  NUM_CLAIMS  MEMBER_DURATION  \\\n",
       "0        1      1         1100             11           0               94   \n",
       "1        2      1         1300              7           2              122   \n",
       "2        3      1         1500              4           0              149   \n",
       "3        4      1         1500              9           0              180   \n",
       "4        5      0         1700              3           0               93   \n",
       "\n",
       "   OPTOM_PRESC  NUM_MEMBERS  \n",
       "0            1            2  \n",
       "1            0            1  \n",
       "2            1            3  \n",
       "3            1            1  \n",
       "4            0            1  "
      ]
     },
     "execution_count": 347,
     "metadata": {},
     "output_type": "execute_result"
    }
   ],
   "source": [
    "df = pd.read_csv('fraud.csv', delimiter=',')\n",
    "df.head()"
   ]
  },
  {
   "cell_type": "code",
   "execution_count": 348,
   "metadata": {},
   "outputs": [
    {
     "name": "stdout",
     "output_type": "stream",
     "text": [
      "a) 19.9497 % of the investigations are a fraud\n"
     ]
    }
   ],
   "source": [
    "t = df['FRAUD'].value_counts(normalize = True)\n",
    "print('a) ' + str(np.round(t[1]*100, decimals=4)) + ' % of the investigations are a fraud')"
   ]
  },
  {
   "cell_type": "code",
   "execution_count": 349,
   "metadata": {},
   "outputs": [
    {
     "data": {
      "text/html": [
       "<div>\n",
       "<style scoped>\n",
       "    .dataframe tbody tr th:only-of-type {\n",
       "        vertical-align: middle;\n",
       "    }\n",
       "\n",
       "    .dataframe tbody tr th {\n",
       "        vertical-align: top;\n",
       "    }\n",
       "\n",
       "    .dataframe thead th {\n",
       "        text-align: right;\n",
       "    }\n",
       "</style>\n",
       "<table border=\"1\" class=\"dataframe\">\n",
       "  <thead>\n",
       "    <tr style=\"text-align: right;\">\n",
       "      <th></th>\n",
       "      <th>TOTAL_SPEND</th>\n",
       "      <th>DOCTOR_VISITS</th>\n",
       "      <th>NUM_CLAIMS</th>\n",
       "      <th>MEMBER_DURATION</th>\n",
       "      <th>OPTOM_PRESC</th>\n",
       "      <th>NUM_MEMBERS</th>\n",
       "    </tr>\n",
       "  </thead>\n",
       "  <tbody>\n",
       "    <tr>\n",
       "      <td>0</td>\n",
       "      <td>1100</td>\n",
       "      <td>11</td>\n",
       "      <td>0</td>\n",
       "      <td>94</td>\n",
       "      <td>1</td>\n",
       "      <td>2</td>\n",
       "    </tr>\n",
       "    <tr>\n",
       "      <td>1</td>\n",
       "      <td>1300</td>\n",
       "      <td>7</td>\n",
       "      <td>2</td>\n",
       "      <td>122</td>\n",
       "      <td>0</td>\n",
       "      <td>1</td>\n",
       "    </tr>\n",
       "    <tr>\n",
       "      <td>2</td>\n",
       "      <td>1500</td>\n",
       "      <td>4</td>\n",
       "      <td>0</td>\n",
       "      <td>149</td>\n",
       "      <td>1</td>\n",
       "      <td>3</td>\n",
       "    </tr>\n",
       "    <tr>\n",
       "      <td>3</td>\n",
       "      <td>1500</td>\n",
       "      <td>9</td>\n",
       "      <td>0</td>\n",
       "      <td>180</td>\n",
       "      <td>1</td>\n",
       "      <td>1</td>\n",
       "    </tr>\n",
       "    <tr>\n",
       "      <td>4</td>\n",
       "      <td>1700</td>\n",
       "      <td>3</td>\n",
       "      <td>0</td>\n",
       "      <td>93</td>\n",
       "      <td>0</td>\n",
       "      <td>1</td>\n",
       "    </tr>\n",
       "  </tbody>\n",
       "</table>\n",
       "</div>"
      ],
      "text/plain": [
       "   TOTAL_SPEND  DOCTOR_VISITS  NUM_CLAIMS  MEMBER_DURATION  OPTOM_PRESC  \\\n",
       "0         1100             11           0               94            1   \n",
       "1         1300              7           2              122            0   \n",
       "2         1500              4           0              149            1   \n",
       "3         1500              9           0              180            1   \n",
       "4         1700              3           0               93            0   \n",
       "\n",
       "   NUM_MEMBERS  \n",
       "0            2  \n",
       "1            1  \n",
       "2            3  \n",
       "3            1  \n",
       "4            1  "
      ]
     },
     "execution_count": 349,
     "metadata": {},
     "output_type": "execute_result"
    }
   ],
   "source": [
    "df_inter = df[['TOTAL_SPEND','DOCTOR_VISITS','NUM_CLAIMS','MEMBER_DURATION', 'OPTOM_PRESC','NUM_MEMBERS']]\n",
    "df_inter.head()"
   ]
  },
  {
   "cell_type": "code",
   "execution_count": 350,
   "metadata": {},
   "outputs": [
    {
     "name": "stdout",
     "output_type": "stream",
     "text": [
      "Eigenvalues of x = \n",
      " [6.84728061e+03 8.38798104e+03 1.80639631e+04 3.15839942e+05\n",
      " 8.44539131e+07 2.81233324e+12]\n",
      "Eigenvalues of x gretaer than one = \n",
      " [6.84728061e+03 8.38798104e+03 1.80639631e+04 3.15839942e+05\n",
      " 8.44539131e+07 2.81233324e+12]\n"
     ]
    }
   ],
   "source": [
    "matrix = np.matrix(df_inter)\n",
    "\n",
    "xtx = np.dot(matrix.T,matrix)\n",
    "\n",
    "evals, evecs = np.linalg.eigh(xtx)\n",
    "\n",
    "print(\"Eigenvalues of x = \\n\", evals)\n",
    "\n",
    "evals_1 = evals[evals > 1.0]\n",
    "evecs_1 = evecs[:,evals > 1.0]\n",
    "\n",
    "print(\"Eigenvalues of x gretaer than one = \\n\", evals_1)"
   ]
  },
  {
   "cell_type": "code",
   "execution_count": 351,
   "metadata": {},
   "outputs": [
    {
     "name": "stdout",
     "output_type": "stream",
     "text": [
      "Transformation Matrix = \n",
      " [[-6.49862374e-08 -2.41194689e-07  2.69941036e-07 -2.42525871e-07\n",
      "  -7.90492750e-07  5.96286732e-07]\n",
      " [ 7.31656633e-05 -2.94741983e-04  9.48855536e-05  1.77761538e-03\n",
      "   3.51604254e-06  2.20559915e-10]\n",
      " [-1.18697179e-02  1.70828329e-03 -7.68683456e-04  2.03673350e-05\n",
      "   1.76401304e-07  9.09938972e-12]\n",
      " [ 1.92524315e-06 -5.37085514e-05  2.32038406e-05 -5.78327741e-05\n",
      "   1.08753133e-04  4.32672436e-09]\n",
      " [ 8.34989734e-04 -2.29964514e-03 -7.25509934e-03  1.11508242e-05\n",
      "   2.39238772e-07  2.85768709e-11]\n",
      " [ 2.10964750e-03  1.05319439e-02 -1.45669326e-03  4.85837631e-05\n",
      "   6.76601477e-07  4.66565230e-11]]\n"
     ]
    }
   ],
   "source": [
    "dvals = 1.0 / np.sqrt(evals_1)\n",
    "transf = evecs_1 * np.diagflat(dvals)\n",
    "print(\"Transformation Matrix = \\n\", transf)"
   ]
  },
  {
   "cell_type": "code",
   "execution_count": 352,
   "metadata": {},
   "outputs": [
    {
     "name": "stdout",
     "output_type": "stream",
     "text": [
      "The Transformed x = \n",
      " [[ 5.96859502e-03  1.02081629e-02 -6.64664861e-03  1.39590283e-02\n",
      "   9.39352141e-03  6.56324665e-04]\n",
      " [-2.09672310e-02  5.01932025e-03  8.51930607e-04  5.16174400e-03\n",
      "   1.22658834e-02  7.75702220e-04]\n",
      " [ 7.64597676e-03  1.97528525e-02 -7.38335310e-03 -1.71350853e-03\n",
      "   1.50348109e-02  8.95075830e-04]\n",
      " ...\n",
      " [-7.18408819e-05 -1.62580211e-02  2.75078514e-02 -7.13245766e-03\n",
      "  -4.74021952e-02  5.31896971e-02]\n",
      " [-1.80147801e-04 -1.62154130e-02  2.76213381e-02 -9.17125411e-03\n",
      "  -4.76625006e-02  5.35474776e-02]\n",
      " [-2.21157680e-03 -2.73884697e-02  2.93391341e-02 -7.81347172e-03\n",
      "  -4.70861917e-02  5.36071324e-02]]\n",
      "Expect an Identity Matrix = \n",
      " [[ 1.00000000e+00 -3.00432422e-16 -4.61219604e-16  5.45323877e-15\n",
      "   1.20996962e-15 -1.28911638e-16]\n",
      " [-3.00432422e-16  1.00000000e+00 -6.44449771e-16 -2.76820667e-14\n",
      "  -1.23512311e-15  7.78890841e-16]\n",
      " [-4.61219604e-16 -6.44449771e-16  1.00000000e+00  3.49546780e-15\n",
      "   1.21430643e-16 -2.39391840e-16]\n",
      " [ 5.45323877e-15 -2.76820667e-14  3.49546780e-15  1.00000000e+00\n",
      "   1.14968798e-14 -3.47812057e-15]\n",
      " [ 1.20996962e-15 -1.23512311e-15  1.21430643e-16  1.14968798e-14\n",
      "   1.00000000e+00 -6.31439345e-16]\n",
      " [-1.28911638e-16  7.78890841e-16 -2.39391840e-16 -3.47812057e-15\n",
      "  -6.31439345e-16  1.00000000e+00]]\n"
     ]
    }
   ],
   "source": [
    "transf_matrix = matrix * transf\n",
    "print(\"The Transformed x = \\n\", transf_matrix)\n",
    "\n",
    "# Check columns of transformed X\n",
    "xtx = transf_matrix.T * transf_matrix\n",
    "print(\"Expect an Identity Matrix = \\n\", xtx)\n"
   ]
  },
  {
   "cell_type": "code",
   "execution_count": 353,
   "metadata": {},
   "outputs": [
    {
     "name": "stdout",
     "output_type": "stream",
     "text": [
      "0.8778523489932886\n"
     ]
    }
   ],
   "source": [
    "Y = df['FRAUD']\n",
    "X = transf_matrix\n",
    "\n",
    "model = KNeighborsClassifier(n_neighbors=5, metric = 'euclidean')\n",
    "\n",
    "res = model.fit(X,Y)\n",
    "preds = res.predict(X)\n",
    "\n",
    "print(res.score(X,Y))\n"
   ]
  },
  {
   "cell_type": "code",
   "execution_count": 354,
   "metadata": {},
   "outputs": [
    {
     "name": "stdout",
     "output_type": "stream",
     "text": [
      "[[7500   15    3  127    2    2]]\n",
      "[[-0.02886529  0.00853837 -0.01333491  0.0176811   0.00793805  0.0044727 ]]\n"
     ]
    }
   ],
   "source": [
    "x = np.matrix([7500, 15, 3,127,2,2])\n",
    "\n",
    "print(x)\n",
    "\n",
    "x_t = x * transf\n",
    "\n",
    "print(x_t)"
   ]
  },
  {
   "cell_type": "code",
   "execution_count": 355,
   "metadata": {},
   "outputs": [
    {
     "name": "stdout",
     "output_type": "stream",
     "text": [
      "[[ 588 2897 1199 1246  886]]\n"
     ]
    }
   ],
   "source": [
    "n_5 = model.kneighbors(x_t,return_distance=False)\n",
    "print(n_5)"
   ]
  },
  {
   "cell_type": "code",
   "execution_count": 356,
   "metadata": {},
   "outputs": [
    {
     "data": {
      "text/html": [
       "<div>\n",
       "<style scoped>\n",
       "    .dataframe tbody tr th:only-of-type {\n",
       "        vertical-align: middle;\n",
       "    }\n",
       "\n",
       "    .dataframe tbody tr th {\n",
       "        vertical-align: top;\n",
       "    }\n",
       "\n",
       "    .dataframe thead th {\n",
       "        text-align: right;\n",
       "    }\n",
       "</style>\n",
       "<table border=\"1\" class=\"dataframe\">\n",
       "  <thead>\n",
       "    <tr style=\"text-align: right;\">\n",
       "      <th></th>\n",
       "      <th>CASE_ID</th>\n",
       "      <th>FRAUD</th>\n",
       "      <th>TOTAL_SPEND</th>\n",
       "      <th>DOCTOR_VISITS</th>\n",
       "      <th>NUM_CLAIMS</th>\n",
       "      <th>MEMBER_DURATION</th>\n",
       "      <th>OPTOM_PRESC</th>\n",
       "      <th>NUM_MEMBERS</th>\n",
       "    </tr>\n",
       "  </thead>\n",
       "  <tbody>\n",
       "    <tr>\n",
       "      <td>588</td>\n",
       "      <td>589</td>\n",
       "      <td>1</td>\n",
       "      <td>7500</td>\n",
       "      <td>15</td>\n",
       "      <td>3</td>\n",
       "      <td>127</td>\n",
       "      <td>2</td>\n",
       "      <td>2</td>\n",
       "    </tr>\n",
       "    <tr>\n",
       "      <td>2897</td>\n",
       "      <td>2898</td>\n",
       "      <td>1</td>\n",
       "      <td>16000</td>\n",
       "      <td>18</td>\n",
       "      <td>3</td>\n",
       "      <td>146</td>\n",
       "      <td>3</td>\n",
       "      <td>2</td>\n",
       "    </tr>\n",
       "    <tr>\n",
       "      <td>1199</td>\n",
       "      <td>1200</td>\n",
       "      <td>1</td>\n",
       "      <td>10000</td>\n",
       "      <td>16</td>\n",
       "      <td>3</td>\n",
       "      <td>124</td>\n",
       "      <td>2</td>\n",
       "      <td>1</td>\n",
       "    </tr>\n",
       "    <tr>\n",
       "      <td>1246</td>\n",
       "      <td>1247</td>\n",
       "      <td>1</td>\n",
       "      <td>10200</td>\n",
       "      <td>13</td>\n",
       "      <td>3</td>\n",
       "      <td>119</td>\n",
       "      <td>2</td>\n",
       "      <td>3</td>\n",
       "    </tr>\n",
       "    <tr>\n",
       "      <td>886</td>\n",
       "      <td>887</td>\n",
       "      <td>1</td>\n",
       "      <td>8900</td>\n",
       "      <td>22</td>\n",
       "      <td>3</td>\n",
       "      <td>166</td>\n",
       "      <td>1</td>\n",
       "      <td>2</td>\n",
       "    </tr>\n",
       "  </tbody>\n",
       "</table>\n",
       "</div>"
      ],
      "text/plain": [
       "      CASE_ID  FRAUD  TOTAL_SPEND  DOCTOR_VISITS  NUM_CLAIMS  MEMBER_DURATION  \\\n",
       "588       589      1         7500             15           3              127   \n",
       "2897     2898      1        16000             18           3              146   \n",
       "1199     1200      1        10000             16           3              124   \n",
       "1246     1247      1        10200             13           3              119   \n",
       "886       887      1         8900             22           3              166   \n",
       "\n",
       "      OPTOM_PRESC  NUM_MEMBERS  \n",
       "588             2            2  \n",
       "2897            3            2  \n",
       "1199            2            1  \n",
       "1246            2            3  \n",
       "886             1            2  "
      ]
     },
     "execution_count": 356,
     "metadata": {},
     "output_type": "execute_result"
    }
   ],
   "source": [
    "df.iloc[n_5[0]]"
   ]
  },
  {
   "cell_type": "code",
   "execution_count": 379,
   "metadata": {},
   "outputs": [
    {
     "name": "stdout",
     "output_type": "stream",
     "text": [
      "[[0. 1.]]\n",
      "The predicted value is of FRAUD with a probability of: 100.0%\n"
     ]
    }
   ],
   "source": [
    "x_f  = res.predict_proba(x_t)\n",
    "\n",
    "print(x_f)\n",
    "print('The predicted value is of FRAUD with a probability of: ' + str(x_f[0][1]*100) + '%')"
   ]
  },
  {
   "cell_type": "markdown",
   "metadata": {},
   "source": [
    "## Question 4"
   ]
  },
  {
   "cell_type": "code",
   "execution_count": 266,
   "metadata": {},
   "outputs": [
    {
     "data": {
      "text/html": [
       "<div>\n",
       "<style scoped>\n",
       "    .dataframe tbody tr th:only-of-type {\n",
       "        vertical-align: middle;\n",
       "    }\n",
       "\n",
       "    .dataframe tbody tr th {\n",
       "        vertical-align: top;\n",
       "    }\n",
       "\n",
       "    .dataframe thead th {\n",
       "        text-align: right;\n",
       "    }\n",
       "</style>\n",
       "<table border=\"1\" class=\"dataframe\">\n",
       "  <thead>\n",
       "    <tr style=\"text-align: right;\">\n",
       "      <th></th>\n",
       "      <th>Flight</th>\n",
       "      <th>Carrier 1</th>\n",
       "      <th>Carrier 2</th>\n",
       "      <th>Airport 1</th>\n",
       "      <th>Airport 2</th>\n",
       "      <th>Airport 3</th>\n",
       "      <th>Airport 4</th>\n",
       "    </tr>\n",
       "  </thead>\n",
       "  <tbody>\n",
       "    <tr>\n",
       "      <td>0</td>\n",
       "      <td>A</td>\n",
       "      <td>American</td>\n",
       "      <td>Cathay Pacific</td>\n",
       "      <td>ORD</td>\n",
       "      <td>LAX</td>\n",
       "      <td>HKG</td>\n",
       "      <td>PVG</td>\n",
       "    </tr>\n",
       "    <tr>\n",
       "      <td>1</td>\n",
       "      <td>B</td>\n",
       "      <td>American</td>\n",
       "      <td>Cathay Pacific</td>\n",
       "      <td>ORD</td>\n",
       "      <td>SFO</td>\n",
       "      <td>HKG</td>\n",
       "      <td>PVG</td>\n",
       "    </tr>\n",
       "    <tr>\n",
       "      <td>2</td>\n",
       "      <td>C</td>\n",
       "      <td>American</td>\n",
       "      <td>China Southern</td>\n",
       "      <td>ORD</td>\n",
       "      <td>LAX</td>\n",
       "      <td>CAN</td>\n",
       "      <td>PVG</td>\n",
       "    </tr>\n",
       "    <tr>\n",
       "      <td>3</td>\n",
       "      <td>D</td>\n",
       "      <td>American</td>\n",
       "      <td>Virgin Atlantic</td>\n",
       "      <td>ORD</td>\n",
       "      <td>LHR</td>\n",
       "      <td>___</td>\n",
       "      <td>PVG</td>\n",
       "    </tr>\n",
       "    <tr>\n",
       "      <td>4</td>\n",
       "      <td>E</td>\n",
       "      <td>British Airways</td>\n",
       "      <td>Virgin Atlantic</td>\n",
       "      <td>ORD</td>\n",
       "      <td>LHR</td>\n",
       "      <td>___</td>\n",
       "      <td>PVG</td>\n",
       "    </tr>\n",
       "    <tr>\n",
       "      <td>5</td>\n",
       "      <td>F</td>\n",
       "      <td>Delta</td>\n",
       "      <td>___</td>\n",
       "      <td>ORD</td>\n",
       "      <td>SEA</td>\n",
       "      <td>ICN</td>\n",
       "      <td>PVG</td>\n",
       "    </tr>\n",
       "    <tr>\n",
       "      <td>6</td>\n",
       "      <td>G</td>\n",
       "      <td>United</td>\n",
       "      <td>Austrian</td>\n",
       "      <td>ORD</td>\n",
       "      <td>LHR</td>\n",
       "      <td>VIE</td>\n",
       "      <td>PVG</td>\n",
       "    </tr>\n",
       "    <tr>\n",
       "      <td>7</td>\n",
       "      <td>H</td>\n",
       "      <td>United</td>\n",
       "      <td>Virgin Atlantic</td>\n",
       "      <td>ORD</td>\n",
       "      <td>LHR</td>\n",
       "      <td>___</td>\n",
       "      <td>PVG</td>\n",
       "    </tr>\n",
       "    <tr>\n",
       "      <td>8</td>\n",
       "      <td>I</td>\n",
       "      <td>United</td>\n",
       "      <td>___</td>\n",
       "      <td>ORD</td>\n",
       "      <td>DCA</td>\n",
       "      <td>EWR</td>\n",
       "      <td>PVG</td>\n",
       "    </tr>\n",
       "    <tr>\n",
       "      <td>9</td>\n",
       "      <td>J</td>\n",
       "      <td>United</td>\n",
       "      <td>___</td>\n",
       "      <td>ORD</td>\n",
       "      <td>DEN</td>\n",
       "      <td>LAX</td>\n",
       "      <td>PVG</td>\n",
       "    </tr>\n",
       "    <tr>\n",
       "      <td>10</td>\n",
       "      <td>K</td>\n",
       "      <td>United</td>\n",
       "      <td>___</td>\n",
       "      <td>ORD</td>\n",
       "      <td>EWR</td>\n",
       "      <td>___</td>\n",
       "      <td>PVG</td>\n",
       "    </tr>\n",
       "    <tr>\n",
       "      <td>11</td>\n",
       "      <td>L</td>\n",
       "      <td>United</td>\n",
       "      <td>___</td>\n",
       "      <td>ORD</td>\n",
       "      <td>IAD</td>\n",
       "      <td>EWR</td>\n",
       "      <td>PVG</td>\n",
       "    </tr>\n",
       "    <tr>\n",
       "      <td>12</td>\n",
       "      <td>M</td>\n",
       "      <td>United</td>\n",
       "      <td>___</td>\n",
       "      <td>ORD</td>\n",
       "      <td>LAS</td>\n",
       "      <td>LAX</td>\n",
       "      <td>PVG</td>\n",
       "    </tr>\n",
       "    <tr>\n",
       "      <td>13</td>\n",
       "      <td>N</td>\n",
       "      <td>United</td>\n",
       "      <td>___</td>\n",
       "      <td>ORD</td>\n",
       "      <td>LAX</td>\n",
       "      <td>___</td>\n",
       "      <td>PVG</td>\n",
       "    </tr>\n",
       "    <tr>\n",
       "      <td>14</td>\n",
       "      <td>O</td>\n",
       "      <td>United</td>\n",
       "      <td>___</td>\n",
       "      <td>ORD</td>\n",
       "      <td>LGA</td>\n",
       "      <td>EWR</td>\n",
       "      <td>PVG</td>\n",
       "    </tr>\n",
       "  </tbody>\n",
       "</table>\n",
       "</div>"
      ],
      "text/plain": [
       "   Flight        Carrier 1        Carrier 2 Airport 1 Airport 2 Airport 3  \\\n",
       "0       A         American   Cathay Pacific       ORD       LAX       HKG   \n",
       "1       B         American   Cathay Pacific       ORD       SFO       HKG   \n",
       "2       C         American   China Southern       ORD       LAX       CAN   \n",
       "3       D         American  Virgin Atlantic       ORD       LHR       ___   \n",
       "4       E  British Airways  Virgin Atlantic       ORD       LHR       ___   \n",
       "5       F            Delta              ___       ORD       SEA       ICN   \n",
       "6       G           United         Austrian       ORD       LHR       VIE   \n",
       "7       H           United  Virgin Atlantic       ORD       LHR       ___   \n",
       "8       I           United              ___       ORD       DCA       EWR   \n",
       "9       J           United              ___       ORD       DEN       LAX   \n",
       "10      K           United              ___       ORD       EWR       ___   \n",
       "11      L           United              ___       ORD       IAD       EWR   \n",
       "12      M           United              ___       ORD       LAS       LAX   \n",
       "13      N           United              ___       ORD       LAX       ___   \n",
       "14      O           United              ___       ORD       LGA       EWR   \n",
       "\n",
       "   Airport 4  \n",
       "0        PVG  \n",
       "1        PVG  \n",
       "2        PVG  \n",
       "3        PVG  \n",
       "4        PVG  \n",
       "5        PVG  \n",
       "6        PVG  \n",
       "7        PVG  \n",
       "8        PVG  \n",
       "9        PVG  \n",
       "10       PVG  \n",
       "11       PVG  \n",
       "12       PVG  \n",
       "13       PVG  \n",
       "14       PVG  "
      ]
     },
     "execution_count": 266,
     "metadata": {},
     "output_type": "execute_result"
    }
   ],
   "source": [
    "d_a = pd.read_csv('airplanes.csv', delimiter = ';')\n",
    "d_a = d_a.fillna('___')\n",
    "d_a"
   ]
  },
  {
   "cell_type": "code",
   "execution_count": 268,
   "metadata": {},
   "outputs": [
    {
     "data": {
      "image/png": "[encoded data removed]",
      "text/plain": [
       "<Figure size 432x288 with 1 Axes>"
      ]
     },
     "metadata": {
      "needs_background": "light"
     },
     "output_type": "display_data"
    }
   ],
   "source": [
    "plt.scatter(d_a['Airport 2'], d_a['Airport 3'])\n",
    "plt.xlabel('Airport 2')\n",
    "plt.ylabel('Airport 3')\n",
    "plt.show()"
   ]
  },
  {
   "cell_type": "code",
   "execution_count": 364,
   "metadata": {},
   "outputs": [
    {
     "name": "stdout",
     "output_type": "stream",
     "text": [
      "LAX    5\n",
      "___    5\n",
      "LHR    4\n",
      "EWR    4\n",
      "HKG    2\n",
      "SFO    1\n",
      "VIE    1\n",
      "IAD    1\n",
      "LAS    1\n",
      "LGA    1\n",
      "DEN    1\n",
      "SEA    1\n",
      "CAN    1\n",
      "DCA    1\n",
      "ICN    1\n",
      "dtype: int64\n"
     ]
    }
   ],
   "source": [
    "d_air = d_a[['Airport 2','Airport 3']]\n",
    "d_23 = pd.concat([d_air['Airport 2'], d_air['Airport 3']])\n",
    "freq_tab = d_23.value_counts()\n",
    "print(freq_tab)"
   ]
  },
  {
   "cell_type": "code",
   "execution_count": 382,
   "metadata": {},
   "outputs": [],
   "source": [
    "new_f = [1,0,0,0,0,0,0,0,0,0,0,0,0,0,1]"
   ]
  },
  {
   "cell_type": "code",
   "execution_count": 383,
   "metadata": {},
   "outputs": [
    {
     "name": "stdout",
     "output_type": "stream",
     "text": [
      "[0.5 1.  0.5 1.  1.  0.5 1.  1.  1.  0.5 1.  1.  0.5 0.5 1. ]\n"
     ]
    }
   ],
   "source": [
    "cos_dis = []\n",
    "Airports = ['LAX','___', 'LHR', 'EWR','HKG','SFO','VIE','IAD','LAS','LGA','DEN','SEA','CAN','DCA','ICN']\n",
    "for i in range(len(d_air)):\n",
    "    flight = np.zeros(len(freq_tab))\n",
    "    flight_airports= d_air.iloc[i]\n",
    "    flight[Airports.index(flight_airports['Airport 2'])]=1\n",
    "    flight[Airports.index(flight_airports['Airport 3'])]=1\n",
    "    cosine_distance = 1 -  np.inner(flight, new_f) / (np.linalg.norm(new_f) * np.linalg.norm(flight))\n",
    "    cos_dis.append(cosine_distance)\n",
    "print(np.round(cos_dis,decimals=2))"
   ]
  },
  {
   "cell_type": "code",
   "execution_count": 393,
   "metadata": {},
   "outputs": [
    {
     "name": "stdout",
     "output_type": "stream",
     "text": [
      "   Flight Carrier 1       Carrier 2 Airport 1 Airport 2 Airport 3 Airport 4\n",
      "0       A  American  Cathay Pacific       ORD       LAX       HKG       PVG\n",
      "2       C  American  China Southern       ORD       LAX       CAN       PVG\n",
      "5       F     Delta             ___       ORD       SEA       ICN       PVG\n",
      "9       J    United             ___       ORD       DEN       LAX       PVG\n",
      "12      M    United             ___       ORD       LAS       LAX       PVG\n",
      "13      N    United             ___       ORD       LAX       ___       PVG\n"
     ]
    }
   ],
   "source": [
    "print(d_a.iloc[np.where(cos_dis == min(cos_dis))])"
   ]
  },
  {
   "cell_type": "code",
   "execution_count": 433,
   "metadata": {},
   "outputs": [],
   "source": [
    "def question3 (df):\n",
    "    '''\n",
    "         Parameter\n",
    "          df: Pandas dataframe\n",
    "\n",
    "     '''\n",
    "    t = df['FRAUD'].value_counts(normalize = True)\n",
    "    print('a) ' + str(np.round(t[1]*100, decimals=4)) + ' % of the investigations are a fraud')\n",
    "\n",
    "    df_inter = df[['TOTAL_SPEND','DOCTOR_VISITS','NUM_CLAIMS','MEMBER_DURATION', 'OPTOM_PRESC','NUM_MEMBERS']]\n",
    "    matrix = np.matrix(df_inter)\n",
    "\n",
    "    xtx = np.dot(matrix.T,matrix)\n",
    "\n",
    "    evals, evecs = np.linalg.eigh(xtx)\n",
    "    print(\"Eigenvalues of x = \\n\", evals)\n",
    "\n",
    "    evals_1 = evals[evals > 1.0]\n",
    "    evecs_1 = evecs[:,evals > 1.0]\n",
    "\n",
    "    print(\"Eigenvalues of x gretaer than one = \\n\", evals_1)\n",
    "\n",
    "    dvals = 1.0 / np.sqrt(evals_1)\n",
    "    transf = evecs_1 * np.diagflat(dvals)\n",
    "    print(\"Transformation Matrix = \\n\", transf)\n",
    "\n",
    "    transf_matrix = matrix * transf\n",
    "    print(\"The Transformed x = \\n\", transf_matrix)\n",
    "\n",
    "    # Check columns of transformed X\n",
    "    xtx = transf_matrix.T * transf_matrix\n",
    "    print(\"Expect an Identity Matrix = \\n\", xtx)\n",
    "\n",
    "    Y = df['FRAUD']\n",
    "    X = transf_matrix\n",
    "\n",
    "    model = KNeighborsClassifier(n_neighbors=5, metric = 'euclidean')\n",
    "\n",
    "    res = model.fit(X,Y)\n",
    "    preds = res.predict(X)\n",
    "    print('c) The socre function returns the value: ')\n",
    "    print(res.score(X,Y))\n",
    "\n",
    "    x = np.matrix([7500, 15, 3,127,2,2])\n",
    "    x_t = x * transf\n",
    "\n",
    "    print(x_t)\n",
    "\n",
    "    n_5 = model.kneighbors(x_t,return_distance=False)\n",
    "    print(n_5)\n",
    "    print(df.iloc[n_5[0]])\n",
    "\n",
    "    x_f  = res.predict_proba(x_t)\n",
    "\n",
    "    print(x_f)\n",
    "    print('The predicted value is of FRAUD with a probability of: ' + str(x_f[0][1]*100) + '%')\n"
   ]
  },
  {
   "cell_type": "code",
   "execution_count": null,
   "metadata": {},
   "outputs": [],
   "source": []
  },
  {
   "cell_type": "code",
   "execution_count": null,
   "metadata": {},
   "outputs": [],
   "source": []
  }
 ],
 "metadata": {
  "kernelspec": {
   "display_name": "Python 3",
   "language": "python",
   "name": "python3"
  },
  "language_info": {
   "codemirror_mode": {
    "name": "ipython",
    "version": 3
   },
   "file_extension": ".py",
   "mimetype": "text/x-python",
   "name": "python",
   "nbconvert_exporter": "python",
   "pygments_lexer": "ipython3",
   "version": "3.7.4"
  }
 },
 "nbformat": 4,
 "nbformat_minor": 2
}
